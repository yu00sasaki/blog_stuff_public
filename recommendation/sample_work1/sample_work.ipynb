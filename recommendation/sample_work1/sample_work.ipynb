{
  "nbformat": 4,
  "nbformat_minor": 0,
  "metadata": {
    "colab": {
      "name": "sample_work.ipynb",
      "provenance": [],
      "authorship_tag": "ABX9TyOcBt0ANvXwA2jU35ZgfeZo",
      "include_colab_link": true
    },
    "kernelspec": {
      "name": "python3",
      "display_name": "Python 3"
    },
    "language_info": {
      "name": "python"
    }
  },
  "cells": [
    {
      "cell_type": "markdown",
      "metadata": {
        "id": "view-in-github",
        "colab_type": "text"
      },
      "source": [
        "<a href=\"https://colab.research.google.com/github/yu00sasaki/blog_stuff_public/blob/main/recommendation/sample_work1/sample_work.ipynb\" target=\"_parent\"><img src=\"https://colab.research.google.com/assets/colab-badge.svg\" alt=\"Open In Colab\"/></a>"
      ]
    },
    {
      "cell_type": "code",
      "execution_count": 6,
      "metadata": {
        "colab": {
          "base_uri": "https://localhost:8080/"
        },
        "id": "DXvFxemygPZJ",
        "outputId": "0ca6e353-59e3-436b-9027-72e245af459a"
      },
      "outputs": [
        {
          "output_type": "stream",
          "name": "stdout",
          "text": [
            "aaa\n"
          ]
        }
      ],
      "source": [
        "import urllib.request\n",
        "import zipfile\n",
        "\n",
        "# MovieLensをダウンロードして解凍\n",
        "urllib.request.urlretrieve('http://files.grouplens.org/datasets/movielens/ml-25m.zip', './ml-25m.zip')\n",
        "with zipfile.ZipFile('./ml-25m.zip') as zip_file:\n",
        "    zip_file.extractall('./data/')\n",
        "\n",
        "print(\"aaa\")\n",
        "\n"
      ]
    },
    {
      "cell_type": "code",
      "source": [
        "import pandas as pd\n",
        "\n",
        "ratings = pd.read_csv('./data/ml-25m/ratings.csv')\n",
        "print(f'ユーザー数: {len(set(ratings.userId))}')\n",
        "movies = pd.read_csv('./data/ml-25m/movies.csv')\n",
        "print(f'映画数: {len(set(movies.movieId))}')\n"
      ],
      "metadata": {
        "colab": {
          "base_uri": "https://localhost:8080/"
        },
        "id": "GjCuMBOqhBCZ",
        "outputId": "afc30273-574f-4cc9-9a80-72b51d65a6b3"
      },
      "execution_count": 8,
      "outputs": [
        {
          "output_type": "stream",
          "name": "stdout",
          "text": [
            "ユーザー数: 162541\n",
            "映画数: 62423\n"
          ]
        }
      ]
    },
    {
      "cell_type": "markdown",
      "source": [
        "# 新しいセクション"
      ],
      "metadata": {
        "id": "dd-cn3Jdhpt1"
      }
    }
  ]
}